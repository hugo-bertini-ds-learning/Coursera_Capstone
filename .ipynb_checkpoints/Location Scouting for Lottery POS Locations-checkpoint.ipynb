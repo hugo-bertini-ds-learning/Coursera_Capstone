{
 "cells": [
  {
   "cell_type": "markdown",
   "metadata": {},
   "source": [
    "# **Location Scouting for new Lottery POS Locations**\n",
    "by Hugo Bertini @ 2020.06   \n",
    "###### _*POS: Point Of Sales_"
   ]
  },
  {
   "cell_type": "markdown",
   "metadata": {},
   "source": [
    "## **Introduction**"
   ]
  },
  {
   "cell_type": "markdown",
   "metadata": {},
   "source": [
    "**The Goal**   \n",
    "\n",
    "Find the adequate locations for a new Lottery POS.   \n",
    "This is one way of assisting the Commercial Network Managers in the decision of selecting a new location or of assessing whether a proposal for a new POS is suitable. \n",
    "\n",
    "**Background**   \n",
    "\n",
    "The Lottery business strongly relies on the proximity with their audience. And this proximity happens at many different levels and manners, especially because it is usually an activity operated by a minimal number of entities, and is significantly controlled by Governments.   \n",
    "\n",
    "The outcome of this activity will typically bring benefit social causes which in turn take care of those in need.   \n",
    "\n",
    "As such, it is important for the Lottery operators and the Society to ensure that although the level of commercial activity is kept in good health, the responsible gaming criteria is also met.   \n",
    "\n",
    "\n",
    "**Approach**   \n",
    "\n",
    "In this _paper_ I study a number of information sources with the hope of establishing a reasonable set of criteria that would increase the odds of the Lottery activity growing within the responsible gaming figure.   \n",
    "\n",
    "The main aspect that will be in focus herein is the location of a new POS. \n",
    "\n",
    "Social levels/tiers of each area are not considered in this study, as this information is really hard to gather as a freelance investigator. So we will rather give higher consideration for areas where the commercial activity is greater."
   ]
  },
  {
   "cell_type": "markdown",
   "metadata": {},
   "source": [
    "## **The Data**"
   ]
  },
  {
   "cell_type": "markdown",
   "metadata": {},
   "source": [
    "### Data Sources"
   ]
  },
  {
   "cell_type": "markdown",
   "metadata": {},
   "source": [
    "For this study I will use four data source types: geo-location, Foursquare, Mobility and Existing POS.   \n",
    "\n",
    "More specifically, those are:   \n",
    "1. **geoJSON vector maps** of Portugal\n",
    "    - This information allows knowing the shape of boroughs, which will become useful for certain over-the-map representation of the data.\n",
    "1. **Foursquare venue** information\n",
    "    - This will allow knowing what kinds of venues are on each street and their coordinates.\n",
    "1. **Google's mobility** data\n",
    "    - This information will provide a better idea of the mobility per location.\n",
    "1. **Existing Lottery POS location** information from a provider's website\n",
    "    - This is to know the streets where there currently are POSes available for the studied district."
   ]
  },
  {
   "cell_type": "markdown",
   "metadata": {},
   "source": [
    "### Data Handling"
   ]
  },
  {
   "cell_type": "markdown",
   "metadata": {},
   "source": [
    "Each one of these data sources is available in a different way, so I will use 4 approaches:   \n",
    "\n",
    "1. **geoJSON vector maps** of Portugal   \n",
    "   - I will use a subset of the geoJSON data, just as enough as to represent the Districts and boroughs being studied.   \n",
    "1. **Foursquare venue** information   \n",
    "   - The information about venues will be grabbed from the Foursquare API. \n",
    "   - The information of interest is about trends, likes, categories, similarity and details.\n",
    "1. **Google's mobility data**\n",
    "   - The information of interest is about Transit stations, Retail & recreation, Residential and Workplaces.\n",
    "   - The data is formatted in a pre-COVID-19 vs COVID-19 _era_ manner, so this will be taken into account.\n",
    "1. **Existing Lottery POS** information in Portugal from the provider's website\n",
    "   - I will perform a manual crawl on the publicly available webpage of [SCML](https://www.djogos.scml.pt/web/SCMediador/verMediadores) for the intended District. I decided on a manual approach as it is much less worky than puting the automated web crawling technologies into practice for this one District. Should a national coverage be required, I would consider asking the provider for the information or implementing an automated crawl.    \n",
    "   - The information of interest is POS name (which will be obfuscated during the process and prior to analysis), address and postal code.   \n",
    "   - We will use the address and postal code to obtain the best coordinates possible.\n",
    "\n",
    "  "
   ]
  },
  {
   "cell_type": "markdown",
   "metadata": {},
   "source": [
    "### Data Samples   \n",
    "This is how the data looks like:"
   ]
  },
  {
   "cell_type": "code",
   "execution_count": 1,
   "metadata": {},
   "outputs": [],
   "source": [
    "import os\n",
    "import time\n",
    "import json # library to handle JSON files\n",
    "import pandas as pd\n",
    "import folium # map rendering library\n",
    "import requests # library to handle requests\n",
    "from pandas import json_normalize # tranform JSON file into a pandas dataframe\n",
    "from geopy.geocoders import Nominatim # module to convert an address into latitude and longitude values"
   ]
  },
  {
   "cell_type": "markdown",
   "metadata": {},
   "source": [
    "##### **geoJSON**"
   ]
  },
  {
   "cell_type": "code",
   "execution_count": 2,
   "metadata": {},
   "outputs": [],
   "source": [
    "# getting the central coordinates of the location\n",
    "location = 'Lisboa, Portugal'\n",
    "geolocator = Nominatim(user_agent=\"foursquare_agent\")\n",
    "coords = geolocator.geocode(location)\n",
    "latitude = coords.latitude\n",
    "longitude = coords.longitude\n",
    "\n",
    "# getting the shapes\n",
    "shapes = json.load(open(r'./data/v620_freg.geojson', encoding='utf-8'))"
   ]
  },
  {
   "cell_type": "code",
   "execution_count": 3,
   "metadata": {},
   "outputs": [],
   "source": [
    "df = pd.json_normalize(shapes['features'])"
   ]
  },
  {
   "cell_type": "code",
   "execution_count": 4,
   "metadata": {},
   "outputs": [
    {
     "data": {
      "text/plain": [
       "(173, 11)"
      ]
     },
     "execution_count": 4,
     "metadata": {},
     "output_type": "execute_result"
    }
   ],
   "source": [
    "df = df[df['properties.Distrito'] == 'LISBOA']\n",
    "df.head() \n",
    "df.shape"
   ]
  },
  {
   "cell_type": "code",
   "execution_count": 5,
   "metadata": {},
   "outputs": [],
   "source": [
    "# keeping only the necessary geojson data\n",
    "#shapes"
   ]
  },
  {
   "cell_type": "code",
   "execution_count": null,
   "metadata": {},
   "outputs": [],
   "source": [
    "#prepare and display the map\n",
    "study_map = folium.Map(location=[latitude, longitude], tiles='Mapbox Control Room', zoom_start=10, width='60%', height='30%')\n",
    "folium.Choropleth(geo_data=shapes, name='choropleth', fill_color='#fec44f', fill_opacity=0.6, line_opacity=0.7,).add_to(study_map)\n",
    "folium.LayerControl().add_to(study_map)\n",
    "study_map"
   ]
  },
  {
   "cell_type": "markdown",
   "metadata": {},
   "source": [
    "##### **Foursquare**"
   ]
  },
  {
   "cell_type": "code",
   "execution_count": null,
   "metadata": {
    "jupyter": {
     "source_hidden": true
    }
   },
   "outputs": [],
   "source": [
    "addr          = 'https://api.foursquare.com/v2/venues/search?'\n",
    "client_id     ='LWPPRHSKBQ3BFLAGZDAKYGZEXEXBAFPOQZQSKZT2IC4J24QW'\n",
    "client_secret ='ZSWEL3T5T23PGV1WZGU4M5Y1MB2SK5L5MJATBKGXDLWVOSRI'\n",
    "v             ='20200606'\n",
    "near          ='Lisbon,%20Portugal'\n",
    "radius        ='15000'\n"
   ]
  },
  {
   "cell_type": "markdown",
   "metadata": {},
   "source": [
    "##### **Google's Mobility Data**"
   ]
  },
  {
   "cell_type": "code",
   "execution_count": null,
   "metadata": {
    "jupyter": {
     "source_hidden": true
    }
   },
   "outputs": [],
   "source": [
    "mobility_filename = './data/Google_Global_Mobility_Report.csv'"
   ]
  },
  {
   "cell_type": "markdown",
   "metadata": {},
   "source": [
    "##### **Existing Lottery POS locations**"
   ]
  },
  {
   "cell_type": "code",
   "execution_count": null,
   "metadata": {
    "jupyter": {
     "source_hidden": true
    }
   },
   "outputs": [],
   "source": []
  },
  {
   "cell_type": "markdown",
   "metadata": {},
   "source": [
    "### Methodology Overview"
   ]
  },
  {
   "cell_type": "markdown",
   "metadata": {},
   "source": [
    "The approach of this study will go through the Data Science phases, from the data collection, through data preparation and exploration, to model selection and evaluation. This is a classification goal, so the models will be restricted by that."
   ]
  },
  {
   "cell_type": "markdown",
   "metadata": {},
   "source": [
    "## **References**"
   ]
  },
  {
   "cell_type": "markdown",
   "metadata": {},
   "source": [
    "[1] GeoJSON @ https://geojson-maps.ash.ms/\n",
    "\n",
    "[2] Foursquare @ https://developer.foursquare.com/docs/places-api/endpoints/\n",
    "\n",
    "[3] Google LLC \"Google COVID-19 Community Mobility Reports\".\n",
    "https://www.google.com/covid19/mobility/ Accessed: 2020.06.05\n",
    "\n",
    "[4] SCML @ https://www.djogos.scml.pt/web/SCMediador/verMediadores"
   ]
  }
 ],
 "metadata": {
  "kernelspec": {
   "display_name": "Python 3",
   "language": "python",
   "name": "python3"
  },
  "language_info": {
   "codemirror_mode": {
    "name": "ipython",
    "version": 3
   },
   "file_extension": ".py",
   "mimetype": "text/x-python",
   "name": "python",
   "nbconvert_exporter": "python",
   "pygments_lexer": "ipython3",
   "version": "3.6.10"
  }
 },
 "nbformat": 4,
 "nbformat_minor": 4
}
